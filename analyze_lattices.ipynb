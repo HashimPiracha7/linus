{
 "cells": [
  {
   "cell_type": "code",
   "execution_count": 36,
   "metadata": {},
   "outputs": [],
   "source": [
    "from crystal_graph import *\n",
    "from pymongo import MongoClient\n",
    "import numpy as np\n",
    "import copy\n",
    "\n",
    "db = MongoClient().linus.lattices"
   ]
  },
  {
   "cell_type": "code",
   "execution_count": null,
   "metadata": {},
   "outputs": [],
   "source": [
    "for lattice in db.find({'sites': {'$exists': False}}):\n",
    "    if 'sites' not in lattice.keys():\n",
    "        coords = lattice['coords']\n",
    "        N, _ = np.array(coords).shape\n",
    "        coords_3d = np.zeros([N,3])\n",
    "        coords_3d[:,:2] = coords\n",
    "        cg = CrystalGraph(coords_3d)\n",
    "        \n",
    "        # format sites and edges\n",
    "        edge_dict = {}\n",
    "        for key, value in cg.edges.items():\n",
    "            edge_dict[str(key)] = value.tolist()\n",
    "        new_dict = {\"sites\": np.array(cg.sites).tolist(), \"edges\": edge_dict}\n",
    "        \n",
    "        db.update_one({\"_id\": lattice[\"_id\"]}, {\"$set\": new_dict})"
   ]
  },
  {
   "cell_type": "code",
   "execution_count": null,
   "metadata": {},
   "outputs": [],
   "source": []
  }
 ],
 "metadata": {
  "kernelspec": {
   "display_name": "Python 3",
   "language": "python",
   "name": "python3"
  },
  "language_info": {
   "codemirror_mode": {
    "name": "ipython",
    "version": 3
   },
   "file_extension": ".py",
   "mimetype": "text/x-python",
   "name": "python",
   "nbconvert_exporter": "python",
   "pygments_lexer": "ipython3",
   "version": "3.6.6"
  }
 },
 "nbformat": 4,
 "nbformat_minor": 2
}
