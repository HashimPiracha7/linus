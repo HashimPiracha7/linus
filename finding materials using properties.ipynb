{
 "cells": [
  {
   "cell_type": "code",
   "execution_count": 1,
   "metadata": {},
   "outputs": [],
   "source": [
    "from pymatgen.ext.matproj import MPRester\n",
    "from pymatgen.symmetry.groups import SpaceGroup,SYMM_DATA , sg_symbol_from_int_number\n"
   ]
  },
  {
   "cell_type": "code",
   "execution_count": 2,
   "metadata": {},
   "outputs": [],
   "source": [
    "get_mats = MPRester()\n"
   ]
  },
  {
   "cell_type": "code",
   "execution_count": 6,
   "metadata": {},
   "outputs": [
    {
     "name": "stdout",
     "output_type": "stream",
     "text": [
      "Number of point groups denoted in pymatgen 40\n",
      "Number of point groups in conventional notation 32\n"
     ]
    }
   ],
   "source": [
    "point_groups = []\n",
    "for i in range(1,231):\n",
    "    symbol = sg_symbol_from_int_number(i)\n",
    "    point_groups.append(SYMM_DATA[\"space_group_encoding\"][symbol][\"point_group\"])\n",
    "\n",
    "print(\"Number of point groups denoted in pymatgen {}\".format(len(set(point_groups))))\n",
    "point_group_conv = {'321' :'32', '312': '32', '3m1' :'3m', '31m': '3m',\n",
    "                    '-3m1' : '-3m', '-31m': '-3m', '-4m2': '-42m', '-62m': '-6m2' }\n",
    "corrected_point_groups = [point_group_conv.get(pg, pg) for pg in point_groups]\n",
    "print(\"Number of point groups in conventional notation {}\".format(len(set(corrected_point_groups))))\n",
    "\n"
   ]
  },
  {
   "cell_type": "code",
   "execution_count": null,
   "metadata": {},
   "outputs": [],
   "source": []
  }
 ],
 "metadata": {
  "kernelspec": {
   "display_name": "Python 3",
   "language": "python",
   "name": "python3"
  },
  "language_info": {
   "codemirror_mode": {
    "name": "ipython",
    "version": 3
   },
   "file_extension": ".py",
   "mimetype": "text/x-python",
   "name": "python",
   "nbconvert_exporter": "python",
   "pygments_lexer": "ipython3",
   "version": "3.7.3"
  }
 },
 "nbformat": 4,
 "nbformat_minor": 2
}
