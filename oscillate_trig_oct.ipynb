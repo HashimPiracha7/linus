{
 "cells": [
  {
   "cell_type": "code",
   "execution_count": null,
   "metadata": {},
   "outputs": [],
   "source": [
    "from se3cnn.SO3 import basis_transformation_Q_J\n",
    "from sph_projection_utils import *\n",
    "# from equivariant_point_autoencoder.utils import *\n",
    "import torch\n",
    "import numpy as np\n",
    "from lie_vae.lie_tools import block_wigner_matrix_multiply\n",
    "%matplotlib inline\n",
    "import matplotlib.pyplot as plt\n",
    "import sys\n",
    "import math"
   ]
  },
  {
   "cell_type": "code",
   "execution_count": null,
   "metadata": {},
   "outputs": [],
   "source": [
    "import plotly\n",
    "from plotly.graph_objs import *\n",
    "from plotly import tools\n",
    "plotly.offline.init_notebook_mode(connected=False)\n",
    "import plotly.plotly as py"
   ]
  },
  {
   "cell_type": "code",
   "execution_count": null,
   "metadata": {},
   "outputs": [],
   "source": [
    "import scipy\n",
    "def random_rotation_matrix(numpy_random_state, eps=1e-8):\n",
    "    \"\"\"\n",
    "    Generates a random 3D rotation matrix from axis and angle.\n",
    "    Args:\n",
    "        numpy_random_state: numpy random state object\n",
    "    Returns:\n",
    "        Random rotation matrix.\n",
    "    \"\"\"\n",
    "    rng = numpy_random_state\n",
    "    axis = rng.randn(3)\n",
    "    axis /= np.linalg.norm(axis) + eps\n",
    "    theta = 2 * np.pi * rng.uniform(0.0, 1.0)\n",
    "    return rotation_matrix(axis, theta)\n",
    "\n",
    "def rotation_matrix(axis, theta):\n",
    "    return scipy.linalg.expm(np.cross(np.eye(3), axis * theta))"
   ]
  },
  {
   "cell_type": "code",
   "execution_count": null,
   "metadata": {},
   "outputs": [],
   "source": [
    "tetrahedron = np.array([\n",
    "    [0., 0., 0.], [1., 1., 0], [1., 0., 1.], [0., 1., 1.]\n",
    "]) - np.array([0.5, 0.5, 0.5]) \n",
    "\n",
    "rnd = np.random.RandomState(42)\n",
    "rnd_rot = random_rotation_matrix(rnd)\n",
    "rot_tetrahedron = np.einsum('xy,bx->by', rnd_rot, tetrahedron)\n",
    "\n",
    "octahedron = np.array([\n",
    "    [0.5, 0.5, 0.], [0.5, 0.5, 1.], \n",
    "    [0., 0.5, 0.5], [1., 0.5, 0.5],\n",
    "    [0.5, 0., 0.5], [0.5, 1., 0.5],\n",
    "]) - np.array([0.5, 0.5, 0.5]) \n",
    "\n",
    "tetrahedron /= np.linalg.norm(tetrahedron, keepdims=True, axis=-1)\n",
    "octahedron /= np.linalg.norm(octahedron, keepdims=True, axis=-1)"
   ]
  },
  {
   "cell_type": "code",
   "execution_count": null,
   "metadata": {},
   "outputs": [],
   "source": [
    "vector_1 = np.array([1.,1.,1.])\n",
    "vector_1 /= np.linalg.norm(vector_1)\n",
    "vector_2 = np.array([0.,0.,1.])\n",
    "axis = np.cross(vector_1, vector_2)\n",
    "norm_axis = np.linalg.norm(axis)\n",
    "theta = np.arcsin(norm_axis) #  / (2 * np.pi)\n",
    "# print(theta / (2 * np.pi))"
   ]
  },
  {
   "cell_type": "code",
   "execution_count": null,
   "metadata": {},
   "outputs": [],
   "source": [
    "rot_oct_matrix = rotation_matrix(axis / norm_axis, theta)"
   ]
  },
  {
   "cell_type": "code",
   "execution_count": null,
   "metadata": {},
   "outputs": [],
   "source": [
    "rotated_octahedron = np.einsum('ix,xy->iy', octahedron, rot_oct_matrix)"
   ]
  },
  {
   "cell_type": "code",
   "execution_count": null,
   "metadata": {},
   "outputs": [],
   "source": [
    "upper = rotated_octahedron[np.where(rotated_octahedron[:,2] > 0)]\n",
    "lower = rotated_octahedron[np.where(rotated_octahedron[:,2] <= 0)]"
   ]
  },
  {
   "cell_type": "code",
   "execution_count": null,
   "metadata": {},
   "outputs": [],
   "source": [
    "twist = rotation_matrix(np.array([0., 0., 1.]), np.pi / 2.)\n",
    "negative_twist = rotation_matrix(np.array([0., 0., 1.]), -np.pi / 2.)"
   ]
  },
  {
   "cell_type": "code",
   "execution_count": null,
   "metadata": {},
   "outputs": [],
   "source": [
    "intermediate_twist = rotation_matrix(np.array([0., 0., 1.]), np.pi / 4.)\n",
    "negative_intermediate_twist = rotation_matrix(np.array([0., 0., 1.]), -np.pi / 4.)"
   ]
  },
  {
   "cell_type": "code",
   "execution_count": null,
   "metadata": {},
   "outputs": [],
   "source": [
    "trig_upper = np.einsum('ix,xy->iy', upper, twist)\n",
    "trig_lower = np.einsum('ix,xy->iy', lower, negative_twist)"
   ]
  },
  {
   "cell_type": "code",
   "execution_count": null,
   "metadata": {},
   "outputs": [],
   "source": [
    "inter_upper = np.einsum('ix,xy->iy', upper, intermediate_twist)\n",
    "inter_lower = np.einsum('ix,xy->iy', lower, negative_intermediate_twist)"
   ]
  },
  {
   "cell_type": "code",
   "execution_count": null,
   "metadata": {},
   "outputs": [],
   "source": [
    "trigonal_prism = np.concatenate((trig_upper, trig_lower), axis=0)\n",
    "trigonal_prism.shape"
   ]
  },
  {
   "cell_type": "code",
   "execution_count": null,
   "metadata": {},
   "outputs": [],
   "source": [
    "inter = np.concatenate((inter_upper, inter_lower), axis=0)"
   ]
  },
  {
   "cell_type": "code",
   "execution_count": null,
   "metadata": {},
   "outputs": [],
   "source": [
    "L_max = 8\n",
    "oct_angles = xyz_to_phi_theta(octahedron)\n",
    "oct_coeffs = get_Ylm_coeffs(*oct_angles, L_max=L_max)\n",
    "rot_oct_angles = xyz_to_phi_theta(rotated_octahedron)\n",
    "rot_oct_coeffs = get_Ylm_coeffs(*rot_oct_angles, L_max=L_max)\n",
    "trig_prism_angles = xyz_to_phi_theta(trigonal_prism)\n",
    "trig_prism_coeffs = get_Ylm_coeffs(*trig_prism_angles, L_max=L_max)"
   ]
  },
  {
   "cell_type": "code",
   "execution_count": null,
   "metadata": {},
   "outputs": [],
   "source": [
    "oscillate = lambda theta: np.sin(theta) * rot_oct_coeffs + np.cos(theta) * trig_prism_coeffs"
   ]
  },
  {
   "cell_type": "code",
   "execution_count": null,
   "metadata": {},
   "outputs": [],
   "source": [
    "def oscillate_signals(signal_1, signal_2, eps=1e-11):\n",
    "    inner = signal_1 * signal_2\n",
    "    average_parallel = (inner / (signal_1 + eps) + inner / (signal_2 + eps)) / 2.\n",
    "    signal_1_perp = signal_1 - average_parallel\n",
    "    signal_2_perp = signal_2 - average_parallel\n",
    "    return lambda theta: np.cos(theta) * signal_1_perp + np.sin(theta) * signal_2_perp + average_parallel"
   ]
  },
  {
   "cell_type": "code",
   "execution_count": null,
   "metadata": {},
   "outputs": [],
   "source": [
    "rot_oct_perp = rot_oct_coeffs - (rot_oct_coeffs * trig_prism_coeffs) / (trig_prism_coeffs + 1e-8)\n",
    "trig_perp = trig_prism_coeffs - (rot_oct_coeffs * trig_prism_coeffs) / (rot_oct_coeffs + 1e-8)\n",
    "parallel = rot_oct_coeffs * trig_prism_coeffs / (trig_prism_coeffs + 1e-8)\n",
    "oscillate_perp = lambda theta: np.sin(theta) * rot_oct_perp + np.cos(theta) * trig_perp + parallel"
   ]
  },
  {
   "cell_type": "code",
   "execution_count": null,
   "metadata": {},
   "outputs": [],
   "source": [
    "plot_coeffs = [oscillate(theta) for theta in np.linspace(0, 2 * np.pi, 10)]\n",
    "# plot_perp_coeffs = [oscillate_perp(theta) for theta in np.linspace(0, 2 * np.pi, 10)]\n",
    "plot_perp_coeffs = [oscillate_signals(rot_oct_coeffs, trig_prism_coeffs)(theta) \\\n",
    "                    for theta in np.linspace(0, np.pi, 20)]\n",
    "plot_rot_perp_coeffs = [oscillate_signals(oct_coeffs, trig_prism_coeffs)(theta) \\\n",
    "                        for theta in np.linspace(0, np.pi, 20)]\n",
    "# plot_rot_perp_coeffs = [oscillate_rot_perp(theta) for theta in np.linspace(0, np.pi, 20)]"
   ]
  },
  {
   "cell_type": "code",
   "execution_count": null,
   "metadata": {},
   "outputs": [],
   "source": [
    "fig = visualize_coeff_series(plot_coeffs, L_max=L_max, num_angular_points=50,\n",
    "                             cmin=-5, cmax=5)"
   ]
  },
  {
   "cell_type": "code",
   "execution_count": null,
   "metadata": {},
   "outputs": [],
   "source": [
    "fig_perp = visualize_coeff_series(plot_perp_coeffs, L_max=L_max, num_angular_points=50,\n",
    "                                  cmin=-5, cmax=5)"
   ]
  },
  {
   "cell_type": "code",
   "execution_count": null,
   "metadata": {},
   "outputs": [],
   "source": [
    "fig_rot_perp = visualize_coeff_series(plot_rot_perp_coeffs, L_max=L_max,\n",
    "                                      num_angular_points=50,\n",
    "                                      cmin=-5, cmax=5)"
   ]
  },
  {
   "cell_type": "code",
   "execution_count": null,
   "metadata": {},
   "outputs": [],
   "source": [
    "plotly.offline.iplot(fig_rot_perp)"
   ]
  },
  {
   "cell_type": "code",
   "execution_count": null,
   "metadata": {},
   "outputs": [],
   "source": [
    "plotly.offline.iplot(fig_perp)"
   ]
  },
  {
   "cell_type": "code",
   "execution_count": null,
   "metadata": {},
   "outputs": [],
   "source": [
    "# Plot coefficients\n",
    "array = np.array(plot_perp_coeffs)\n",
    "fig, axes = plt.subplots(1, L_max + 1, figsize=(10,5))\n",
    "for L in range(L_max + 1):\n",
    "    print((L + 1)**2 - (2 * L + 1),(L + 1)**2)\n",
    "    for i,M in enumerate(range(-L, L+1, 1)):\n",
    "        axes[L].plot(array[:,(L + 1)**2 - (2 * L + 1) + i:(L + 1)**2 - (2 * L + 1) + i + 1], label=\"M={}\".format(M))\n",
    "    axes[L].set_ylim([-3,3])\n",
    "    axes[L].set_title(\"L={}\".format(L))\n",
    "    axes[L].legend(loc='upper center', bbox_to_anchor=(0.5, -0.05),\n",
    "                   fancybox=True, shadow=True, ncol=1)"
   ]
  },
  {
   "cell_type": "code",
   "execution_count": null,
   "metadata": {},
   "outputs": [],
   "source": [
    "# Plot coefficients\n",
    "array = np.array(plot_rot_perp_coeffs)\n",
    "fig, axes = plt.subplots(1, L_max + 1, figsize=(10,5))\n",
    "for L in range(L_max + 1):\n",
    "    print((L + 1)**2 - (2 * L + 1),(L + 1)**2)\n",
    "    for i,M in enumerate(range(-L, L+1, 1)):\n",
    "        axes[L].plot(array[:,(L + 1)**2 - (2 * L + 1) + i:(L + 1)**2 - (2 * L + 1) + i + 1], label=\"M={}\".format(M))\n",
    "    axes[L].set_ylim([-3,3])\n",
    "    axes[L].set_title(\"L={}\".format(L))\n",
    "    axes[L].legend(loc='upper center', bbox_to_anchor=(0.5, -0.05),\n",
    "                   fancybox=True, shadow=True, ncol=1)"
   ]
  },
  {
   "cell_type": "code",
   "execution_count": null,
   "metadata": {},
   "outputs": [],
   "source": [
    "# plot coefficients as a function of twist\n",
    "coeffs = []\n",
    "upper_coeffs = []\n",
    "lower_coeffs = []\n",
    "L_max = 6\n",
    "for angle in np.linspace(0, np.pi / 3., 50):\n",
    "    rot = rotation_matrix(np.array([0., 0., 1.]), angle)\n",
    "    neg_rot = rotation_matrix(np.array([0., 0., 1.]), -angle)\n",
    "    new_upper = np.einsum('ix,xy->iy', upper, rot)\n",
    "    new_lower = np.einsum('ix,xy->iy', lower, neg_rot)\n",
    "    \n",
    "    sph_angles = xyz_to_phi_theta(new_upper)\n",
    "    sph_coeffs = get_Ylm_coeffs(*sph_angles, L_max=L_max)\n",
    "    upper_coeffs.append(sph_coeffs)\n",
    "    \n",
    "    sph_angles = xyz_to_phi_theta(new_lower)\n",
    "    sph_coeffs = get_Ylm_coeffs(*sph_angles, L_max=L_max)\n",
    "    lower_coeffs.append(sph_coeffs)\n",
    "    \n",
    "    new_shape = np.concatenate((new_upper, new_lower), axis=0)\n",
    "    sph_angles = xyz_to_phi_theta(new_shape)\n",
    "    sph_coeffs = get_Ylm_coeffs(*sph_angles, L_max=L_max)\n",
    "    coeffs.append(sph_coeffs)"
   ]
  },
  {
   "cell_type": "code",
   "execution_count": null,
   "metadata": {},
   "outputs": [],
   "source": [
    "# plot coefficients as a function of twist\n",
    "rot_coeffs = []\n",
    "L_max = 6\n",
    "num_snaps = 50\n",
    "for i, angle in enumerate(np.linspace(0, np.pi / 6., num_snaps)):\n",
    "    rot = rotation_matrix(np.array([0., 0., 1.]), angle)\n",
    "    neg_rot = rotation_matrix(np.array([0., 0., 1.]), -angle)\n",
    "    new_upper = np.einsum('ix,xy->iy', upper, rot)\n",
    "    new_lower = np.einsum('ix,xy->iy', lower, neg_rot)\n",
    "    new_shape = np.concatenate((new_upper, new_lower), axis=0)\n",
    "    rot_mat = rotation_matrix(axis / norm_axis, - (num_snaps - 1 - i)/(num_snaps - 1) * theta)\n",
    "    new_shape = np.einsum('ix,xy->iy', new_shape, rot_mat)\n",
    "    \n",
    "    sph_angles = xyz_to_phi_theta(new_shape)\n",
    "    sph_coeffs = get_Ylm_coeffs(*sph_angles, L_max=L_max)\n",
    "    rot_coeffs.append(sph_coeffs)"
   ]
  },
  {
   "cell_type": "code",
   "execution_count": null,
   "metadata": {},
   "outputs": [],
   "source": [
    "# Plot coefficients along octahedral to trigonal distortion\n",
    "np_rot_coeffs = np.array(rot_coeffs)\n",
    "fig, axes = plt.subplots(1, L_max + 1, figsize=(10,5))\n",
    "for L in range(L_max + 1):\n",
    "    print((L + 1)**2 - (2 * L + 1),(L + 1)**2)\n",
    "    for i,M in enumerate(range(-L, L+1, 1)):\n",
    "        axes[L].plot(np_rot_coeffs[:,(L + 1)**2 - (2 * L + 1) + i:(L + 1)**2 - (2 * L + 1) + i + 1], label=\"M={}\".format(M))\n",
    "    axes[L].set_ylim([-3,3])\n",
    "    axes[L].set_title(\"L={}\".format(L))\n",
    "    axes[L].legend(loc='upper center', bbox_to_anchor=(0.5, -0.05),\n",
    "                   fancybox=True, shadow=True, ncol=1)"
   ]
  },
  {
   "cell_type": "code",
   "execution_count": null,
   "metadata": {},
   "outputs": [],
   "source": [
    "fig_rot_perp_analytic = visualize_coeff_series(rot_coeffs, L_max=6,\n",
    "                                      num_angular_points=50,\n",
    "                                      cmin=-5, cmax=5)"
   ]
  },
  {
   "cell_type": "code",
   "execution_count": null,
   "metadata": {},
   "outputs": [],
   "source": [
    "plotly.offline.iplot(fig_rot_perp_analytic)"
   ]
  },
  {
   "cell_type": "code",
   "execution_count": null,
   "metadata": {},
   "outputs": [],
   "source": [
    "# Plot coefficients along octahedral to trigonal distortion\n",
    "np_coeffs = np.array(coeffs)\n",
    "fig, axes = plt.subplots(1, L_max + 1, figsize=(10,5))\n",
    "for L in range(L_max + 1):\n",
    "    print((L + 1)**2 - (2 * L + 1),(L + 1)**2)\n",
    "    for i,M in enumerate(range(-L, L+1, 1)):\n",
    "        axes[L].plot(np_coeffs[:,(L + 1)**2 - (2 * L + 1) + i:(L + 1)**2 - (2 * L + 1) + i + 1], label=\"M={}\".format(M))\n",
    "    axes[L].set_ylim([-3,3])\n",
    "    axes[L].set_title(\"L={}\".format(L))\n",
    "    axes[L].legend(loc='upper center', bbox_to_anchor=(0.5, -0.05),\n",
    "                   fancybox=True, shadow=True, ncol=1)"
   ]
  }
 ],
 "metadata": {
  "kernelspec": {
   "display_name": "Python 3",
   "language": "python",
   "name": "python3"
  },
  "language_info": {
   "codemirror_mode": {
    "name": "ipython",
    "version": 3
   },
   "file_extension": ".py",
   "mimetype": "text/x-python",
   "name": "python",
   "nbconvert_exporter": "python",
   "pygments_lexer": "ipython3",
   "version": "3.6.7"
  }
 },
 "nbformat": 4,
 "nbformat_minor": 2
}
