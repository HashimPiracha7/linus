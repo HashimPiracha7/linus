{
 "cells": [
  {
   "cell_type": "code",
   "execution_count": 1,
   "metadata": {},
   "outputs": [
    {
     "data": {
      "text/html": [
       "<script type=\"text/javascript\">window.PlotlyConfig = {MathJaxConfig: 'local'};</script><script type=\"text/javascript\">if (window.MathJax) {MathJax.Hub.Config({SVG: {font: \"STIX-Web\"}});}</script><script>requirejs.config({paths: { 'plotly': ['https://cdn.plot.ly/plotly-latest.min']},});if(!window._Plotly) {require(['plotly'],function(plotly) {window._Plotly=plotly;});}</script>"
      ],
      "text/vnd.plotly.v1+html": [
       "<script type=\"text/javascript\">window.PlotlyConfig = {MathJaxConfig: 'local'};</script><script type=\"text/javascript\">if (window.MathJax) {MathJax.Hub.Config({SVG: {font: \"STIX-Web\"}});}</script><script>requirejs.config({paths: { 'plotly': ['https://cdn.plot.ly/plotly-latest.min']},});if(!window._Plotly) {require(['plotly'],function(plotly) {window._Plotly=plotly;});}</script>"
      ]
     },
     "metadata": {},
     "output_type": "display_data"
    }
   ],
   "source": [
    "import pymatgen\n",
    "from pymatgen.core.structure import Structure\n",
    "from pymatgen.ext.matproj import MPRester\n",
    "import numpy as np\n",
    "\n",
    "import plotly\n",
    "import plotly.plotly as py\n",
    "import plotly.graph_objs as go\n",
    "from plotly.offline import download_plotlyjs, init_notebook_mode, plot, iplot\n",
    "\n",
    "init_notebook_mode(connected=True)"
   ]
  },
  {
   "cell_type": "code",
   "execution_count": 2,
   "metadata": {},
   "outputs": [],
   "source": [
    "mprester = MPRester()"
   ]
  },
  {
   "cell_type": "code",
   "execution_count": 3,
   "metadata": {},
   "outputs": [
    {
     "name": "stderr",
     "output_type": "stream",
     "text": [
      "/home/tess/Dropbox/GitHubRepos/pymatgen/pymatgen/io/cif.py:37: UserWarning:\n",
      "\n",
      "Please install optional dependency pybtex if youwant to extract references from CIF files.\n",
      "\n"
     ]
    }
   ],
   "source": [
    "# mp-149 is the Materials Project ID for silicon\n",
    "si_structure = mprester.query(criteria={'material_id': 'mp-149'}, properties=['structure'])[0]['structure']\n",
    "si_structure.to(filename='si.cif')"
   ]
  },
  {
   "cell_type": "code",
   "execution_count": 4,
   "metadata": {},
   "outputs": [
    {
     "data": {
      "text/plain": [
       "Structure Summary\n",
       "Lattice\n",
       "    abc : 3.866974622849504 3.866974623775052 3.86697462\n",
       " angles : 60.000000032293386 60.00000002437586 60.0000000241681\n",
       " volume : 40.888291888494884\n",
       "      A : 3.34889826 0.0 1.93348731\n",
       "      B : 1.11629942 3.15737156 1.93348731\n",
       "      C : 0.0 0.0 3.86697462\n",
       "PeriodicSite: Si (3.9070, 2.7627, 6.7672) [0.8750, 0.8750, 0.8750]\n",
       "PeriodicSite: Si (0.5581, 0.3947, 0.9667) [0.1250, 0.1250, 0.1250]"
      ]
     },
     "execution_count": 4,
     "metadata": {},
     "output_type": "execute_result"
    }
   ],
   "source": [
    "si_structure"
   ]
  },
  {
   "cell_type": "code",
   "execution_count": 8,
   "metadata": {},
   "outputs": [
    {
     "name": "stdout",
     "output_type": "stream",
     "text": [
      "There are 2 atoms in the silicon unit cell.\n",
      "<class 'pymatgen.core.sites.PeriodicSite'>\n",
      "[3.90704797 2.76270011 6.76720559]\n",
      "[0.875 0.875 0.875]\n",
      "3.348898 0.000000 1.933487\n",
      "1.116299 3.157372 1.933487\n",
      "0.000000 0.000000 3.866975\n",
      "<class 'pymatgen.core.lattice.Lattice'>\n"
     ]
    }
   ],
   "source": [
    "print(\"There are \"+ str(len(si_structure)) + \" atoms in the silicon unit cell.\")\n",
    "print(type(si_structure[0])) # this is a pymatgen.core.sites.PeriodicSite\n",
    "\"\"\"\n",
    "Note there are two coordinate systems that we typically deal with\n",
    "to describe atomic positions in unit cells\n",
    "\"\"\"\n",
    "print(si_structure[0].coords) # Cartesian coordinates (the typical x, y, z)\n",
    "print(si_structure[0].frac_coords) # Fractional coordinates (between 0 and 1)\n",
    "\n",
    "print(si_structure.lattice)\n",
    "print(type(si_structure.lattice))"
   ]
  },
  {
   "cell_type": "code",
   "execution_count": 9,
   "metadata": {},
   "outputs": [
    {
     "name": "stdout",
     "output_type": "stream",
     "text": [
      "[(PeriodicSite: Si (0.5581, 2.7627, 4.8337) [-0.1250, 0.8750, 0.8750], 3.8669746228495043, 0, array([-1,  0,  0])), (PeriodicSite: Si (0.5581, 2.7627, 8.7007) [-0.1250, 0.8750, 1.8750], 3.866974622849504, 0, array([-1,  0,  1])), (PeriodicSite: Si (1.6744, 5.9201, 6.7672) [-0.1250, 1.8750, 0.8750], 3.866974624724887, 0, array([-1,  1,  0]))]\n"
     ]
    }
   ],
   "source": [
    "atoms = si_structure.get_sites_in_sphere(si_structure[0].coords, 5, include_index=True, include_image=True)\n",
    "print(atoms[:3])"
   ]
  },
  {
   "cell_type": "code",
   "execution_count": 10,
   "metadata": {},
   "outputs": [],
   "source": [
    "def get_coords_of_sites_in_sphere(structure, center_site, radial_cutoff=5., \n",
    "                                  center_on_site=True, include_center=False):\n",
    "    # This function takes care of figuring out which image \n",
    "    # (copy across periodic boundaries) of a given atom \n",
    "    # is within the sphere.\n",
    "    atoms_in_sphere = structure.get_sites_in_sphere(center_site.coords,\n",
    "                                                    radial_cutoff,\n",
    "                                                    include_index=True, \n",
    "                                                    include_image=True)\n",
    "    \n",
    "    atom_sites, distances, indices, images = zip(*atoms_in_sphere)\n",
    "    \n",
    "    if include_center:\n",
    "        cart_coords = np.array([atom.coords for atom in atom_sites])\n",
    "    else:\n",
    "        cart_coords = np.array([atom.coords for atom in atom_sites if atom != center_site])\n",
    "    \n",
    "    if center_on_site:\n",
    "        cart_coords -= center_site.coords.reshape(-1, 3)\n",
    "    \n",
    "    return cart_coords"
   ]
  },
  {
   "cell_type": "code",
   "execution_count": 13,
   "metadata": {},
   "outputs": [
    {
     "name": "stdout",
     "output_type": "stream",
     "text": [
      "[[ 0.00000000e+00  0.00000000e+00  0.00000000e+00]\n",
      " [-2.23259884e+00  7.89342890e-01 -8.88178420e-16]\n",
      " [-4.44089210e-16 -2.36802867e+00 -8.88178420e-16]\n",
      " [ 1.11629942e+00  7.89342890e-01 -1.93348731e+00]\n",
      " [ 1.11629942e+00  7.89342890e-01  1.93348731e+00]]\n"
     ]
    }
   ],
   "source": [
    "coords = get_coords_of_sites_in_sphere(si_structure,\n",
    "                                       si_structure[0], \n",
    "                                       radial_cutoff=3, \n",
    "                                       center_on_site=True, \n",
    "                                       include_center=True)\n",
    "print(coords)"
   ]
  },
  {
   "cell_type": "code",
   "execution_count": 14,
   "metadata": {},
   "outputs": [
    {
     "data": {
      "application/vnd.plotly.v1+json": {
       "config": {
        "linkText": "Export to plot.ly",
        "plotlyServerURL": "https://plot.ly",
        "showLink": false
       },
       "data": [
        {
         "mode": "markers",
         "type": "scatter3d",
         "uid": "f009aa49-7226-4636-8f7c-abfa9250c82e",
         "x": [
          0,
          -2.23259884,
          -4.440892098500626e-16,
          1.1162994199999994,
          1.1162994199999994
         ],
         "y": [
          0,
          0.7893428900000004,
          -2.3680286699999997,
          0.7893428900000004,
          0.7893428900000004
         ],
         "z": [
          0,
          -8.881784197001252e-16,
          -8.881784197001252e-16,
          -1.9334873100000003,
          1.9334873099999994
         ]
        }
       ],
       "layout": {
        "margin": {
         "b": 0,
         "l": 0,
         "r": 0,
         "t": 0
        }
       }
      },
      "text/html": [
       "<div id=\"379fe030-1c1f-4b36-840b-6a3858e4056a\" style=\"height: 525px; width: 100%;\" class=\"plotly-graph-div\"></div><script type=\"text/javascript\">require([\"plotly\"], function(Plotly) { window.PLOTLYENV=window.PLOTLYENV || {};window.PLOTLYENV.BASE_URL=\"https://plot.ly\";Plotly.newPlot(\"379fe030-1c1f-4b36-840b-6a3858e4056a\", [{\"mode\": \"markers\", \"x\": [0.0, -2.23259884, -4.440892098500626e-16, 1.1162994199999994, 1.1162994199999994], \"y\": [0.0, 0.7893428900000004, -2.3680286699999997, 0.7893428900000004, 0.7893428900000004], \"z\": [0.0, -8.881784197001252e-16, -8.881784197001252e-16, -1.9334873100000003, 1.9334873099999994], \"type\": \"scatter3d\", \"uid\": \"f009aa49-7226-4636-8f7c-abfa9250c82e\"}], {\"margin\": {\"b\": 0, \"l\": 0, \"r\": 0, \"t\": 0}}, {\"showLink\": false, \"linkText\": \"Export to plot.ly\", \"plotlyServerURL\": \"https://plot.ly\"})});</script><script type=\"text/javascript\">window.addEventListener(\"resize\", function(){window._Plotly.Plots.resize(document.getElementById(\"379fe030-1c1f-4b36-840b-6a3858e4056a\"));});</script>"
      ],
      "text/vnd.plotly.v1+html": [
       "<div id=\"379fe030-1c1f-4b36-840b-6a3858e4056a\" style=\"height: 525px; width: 100%;\" class=\"plotly-graph-div\"></div><script type=\"text/javascript\">require([\"plotly\"], function(Plotly) { window.PLOTLYENV=window.PLOTLYENV || {};window.PLOTLYENV.BASE_URL=\"https://plot.ly\";Plotly.newPlot(\"379fe030-1c1f-4b36-840b-6a3858e4056a\", [{\"mode\": \"markers\", \"x\": [0.0, -2.23259884, -4.440892098500626e-16, 1.1162994199999994, 1.1162994199999994], \"y\": [0.0, 0.7893428900000004, -2.3680286699999997, 0.7893428900000004, 0.7893428900000004], \"z\": [0.0, -8.881784197001252e-16, -8.881784197001252e-16, -1.9334873100000003, 1.9334873099999994], \"type\": \"scatter3d\", \"uid\": \"f009aa49-7226-4636-8f7c-abfa9250c82e\"}], {\"margin\": {\"b\": 0, \"l\": 0, \"r\": 0, \"t\": 0}}, {\"showLink\": false, \"linkText\": \"Export to plot.ly\", \"plotlyServerURL\": \"https://plot.ly\"})});</script><script type=\"text/javascript\">window.addEventListener(\"resize\", function(){window._Plotly.Plots.resize(document.getElementById(\"379fe030-1c1f-4b36-840b-6a3858e4056a\"));});</script>"
      ]
     },
     "metadata": {},
     "output_type": "display_data"
    }
   ],
   "source": [
    "# plot coordinates\n",
    "plot_trace = go.Scatter3d(x=coords[:,0], \n",
    "                          y=coords[:,1], \n",
    "                          z=coords[:,2],\n",
    "                          mode=\"markers\")\n",
    "# data MUST be a list\n",
    "data = [plot_trace]\n",
    "layout = go.Layout(margin=dict(l=0, r=0, b=0, t=0))\n",
    "fig = go.Figure(data=data, layout=layout)\n",
    "iplot(fig)"
   ]
  },
  {
   "cell_type": "code",
   "execution_count": 17,
   "metadata": {},
   "outputs": [],
   "source": [
    "si_dict = si_structure.as_dict()"
   ]
  },
  {
   "cell_type": "code",
   "execution_count": 18,
   "metadata": {},
   "outputs": [],
   "source": [
    "si_struct_again = Structure.from_dict(si_dict)"
   ]
  },
  {
   "cell_type": "code",
   "execution_count": 19,
   "metadata": {},
   "outputs": [
    {
     "data": {
      "text/plain": [
       "Structure Summary\n",
       "Lattice\n",
       "    abc : 3.866974622849504 3.866974623775052 3.86697462\n",
       " angles : 60.000000032293386 60.00000002437586 60.0000000241681\n",
       " volume : 40.888291888494884\n",
       "      A : 3.34889826 0.0 1.93348731\n",
       "      B : 1.11629942 3.15737156 1.93348731\n",
       "      C : 0.0 0.0 3.86697462\n",
       "PeriodicSite: Si (3.9070, 2.7627, 6.7672) [0.8750, 0.8750, 0.8750]\n",
       "PeriodicSite: Si (0.5581, 0.3947, 0.9667) [0.1250, 0.1250, 0.1250]"
      ]
     },
     "execution_count": 19,
     "metadata": {},
     "output_type": "execute_result"
    }
   ],
   "source": [
    "si_struct_again"
   ]
  },
  {
   "cell_type": "code",
   "execution_count": null,
   "metadata": {},
   "outputs": [],
   "source": []
  }
 ],
 "metadata": {
  "kernelspec": {
   "display_name": "Python 3",
   "language": "python",
   "name": "python3"
  },
  "language_info": {
   "codemirror_mode": {
    "name": "ipython",
    "version": 3
   },
   "file_extension": ".py",
   "mimetype": "text/x-python",
   "name": "python",
   "nbconvert_exporter": "python",
   "pygments_lexer": "ipython3",
   "version": "3.6.7"
  }
 },
 "nbformat": 4,
 "nbformat_minor": 2
}
