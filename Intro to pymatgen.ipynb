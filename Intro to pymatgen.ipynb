{
 "cells": [
  {
   "cell_type": "code",
   "execution_count": 1,
   "metadata": {},
   "outputs": [],
   "source": [
    "import pymatgen as mg\n",
    "import numpy\n",
    "import matplotlib\n",
    "from pymatgen import MPRester\n",
    "import pandas\n",
    "import pymatgen.symmetry.analyzer as psa"
   ]
  },
  {
   "cell_type": "code",
   "execution_count": 2,
   "metadata": {},
   "outputs": [
    {
     "name": "stdout",
     "output_type": "stream",
     "text": [
      "Atomic mass of Silicon is 28.0855 amu\n",
      "Silicon has a melting point of 1687.0 K\n",
      "Ionic radii for Silicon is {4: 0.54}\n",
      "Atomic mass of Silicon in Kg is 4.6637069207919995e-26 kg\n"
     ]
    }
   ],
   "source": [
    "\"\"\"Basics\"\"\"\n",
    "si = mg.Element(\"Si\") # use this notation to assign a varibale to a ceratin element\n",
    "print(\"Atomic mass of Silicon is {}\".format(si.atomic_mass))\n",
    "print(\"Silicon has a melting point of {}\".format(si.melting_point))\n",
    "print(\"Ionic radii for Silicon is {}\".format(si.ionic_radii))\n",
    "print(\"Atomic mass of Silicon in Kg is {}\".format(si.atomic_mass.to(\"kg\")))"
   ]
  },
  {
   "cell_type": "code",
   "execution_count": 3,
   "metadata": {},
   "outputs": [
    {
     "name": "stdout",
     "output_type": "stream",
     "text": [
      "Atomic mass of Fe2+ is 55.845 amu\n",
      "Ionic radius of Fe2+ is 0.92 ang\n"
     ]
    }
   ],
   "source": [
    "fe2poitive = mg.Specie(\"Fe\", 2)\n",
    "print (\"Atomic mass of Fe2+ is {}\".format(fe2poitive.atomic_mass))\n",
    "print(\"Ionic radius of Fe2+ is {}\".format(fe2poitive.ionic_radius))"
   ]
  },
  {
   "cell_type": "code",
   "execution_count": 4,
   "metadata": {},
   "outputs": [
    {
     "name": "stdout",
     "output_type": "stream",
     "text": [
      "Weight of Fe2O3 is 159.6882 amu\n",
      "Amount of Fe in Fe2O3 is 2.0\n",
      "Atomic Fraction of Fe is 0.4\n",
      "Weight Fraction of Fe is 0.699425505453753 \n"
     ]
    }
   ],
   "source": [
    "#composition function is an immutable mapping of any compund\n",
    "Fe2O3 = mg.Composition(\"Fe2O3\")\n",
    "print(\"Weight of Fe2O3 is {}\".format(Fe2O3.weight)) #note that there is no mass atribute. i think as this is a compund, it only has a weight\n",
    "print(\"Amount of Fe in Fe2O3 is {}\".format(Fe2O3[\"Fe\"]))\n",
    "print(\"Atomic Fraction of Fe is {}\".format(Fe2O3.get_atomic_fraction(\"Fe\")))\n",
    "print(\"Weight Fraction of Fe is {}\".format(Fe2O3.get_wt_fraction(\"Fe\")))"
   ]
  },
  {
   "cell_type": "code",
   "execution_count": 5,
   "metadata": {},
   "outputs": [
    {
     "name": "stdout",
     "output_type": "stream",
     "text": [
      "The side lenghts and angles are ((4.2, 4.2, 4.2), (90.0, 90.0, 90.0))\n"
     ]
    }
   ],
   "source": [
    "\"\"\"making a bravais lattice \"\"\"\n",
    "simple_cubic_lattice = mg.Lattice.cubic(4.2)\n",
    "print(\"The side lenghts and angles are {}\".format(simple_cubic_lattice.lengths_and_angles))"
   ]
  },
  {
   "cell_type": "code",
   "execution_count": 6,
   "metadata": {},
   "outputs": [
    {
     "name": "stdout",
     "output_type": "stream",
     "text": [
      "Unit cell volume  = 74.08800000000001\n",
      "First site of the strucutre is [0. 0. 0.] Cs\n"
     ]
    }
   ],
   "source": [
    "structure = mg.Structure(simple_cubic_lattice,[\"Cs\",\"Cl\"],[[0,0,0],[0.5,0.5,0.5]]) # makes a strucutre which fits the given molecules into the lattice described\n",
    "print(\"Unit cell volume  = {}\".format(structure.volume))\n",
    "print(\"First site of the strucutre is {}\".format(structure[0]))"
   ]
  },
  {
   "cell_type": "code",
   "execution_count": 7,
   "metadata": {},
   "outputs": [
    {
     "name": "stdout",
     "output_type": "stream",
     "text": [
      "Full Formula (Cs3 Li1 Cl4)\n",
      "Reduced Formula: Cs3LiCl4\n",
      "abc   :   8.400000   8.400000   4.200000\n",
      "angles:  90.000000  90.000000  90.000000\n",
      "Sites (8)\n",
      "  #  SP       a     b    c\n",
      "---  ----  ----  ----  ---\n",
      "  0  Cs    0.01  0.5   0\n",
      "  1  Cs    0.5   0     0\n",
      "  2  Cs    0.5   0.5   0\n",
      "  3  Cl    0.25  0.25  0.5\n",
      "  4  Cl    0.25  0.75  0.5\n",
      "  5  Cl    0.75  0.25  0.5\n",
      "  6  Cl    0.75  0.75  0.5\n",
      "  7  Li    0     0     0\n"
     ]
    }
   ],
   "source": [
    "structure.make_supercell([2, 2, 1]) #Make a 3 x 2 x 1 supercell of the structure\n",
    "del structure[0] #Remove the first site\n",
    "structure.append(\"Na\", [0,0,0]) #Append a Na atom.\n",
    "structure[-1] = \"Li\" #Change the last added atom to Li.\n",
    "structure[0] = \"Cs\", [0.01, 0.5, 0] #Shift the first atom by 0.01 in fractional coordinates in the x-direction.\n",
    "immutable_structure = mg.IStructure.from_sites(structure) #Create an immutable structure (cannot be modified).\n",
    "print(immutable_structure)"
   ]
  },
  {
   "cell_type": "code",
   "execution_count": 8,
   "metadata": {},
   "outputs": [
    {
     "name": "stdout",
     "output_type": "stream",
     "text": [
      "The Spacegroup is Pmm2\n",
      "True\n"
     ]
    }
   ],
   "source": [
    "#determining the symetery\n",
    "from pymatgen.symmetry.analyzer import SpacegroupAnalyzer\n",
    "finder = SpacegroupAnalyzer(structure)\n",
    "print(\"The Spacegroup is {}\".format(finder.get_space_group_symbol()))\n",
    "\n",
    "\n",
    "#structure matching tool \n",
    "from pymatgen.analysis.structure_matcher import StructureMatcher\n",
    "#creating 2 structures that are similar as they have the same topological features\n",
    "#however the elements are different and one lattice is larger \n",
    "structure1 = mg.Structure(simple_cubic_lattice,[\"Cs\",\"Cl\"],[[0,0,0],[0.5,0.5,0.5]])\n",
    "structure2 = mg.Structure(mg.Lattice.cubic(5),[\"Rb\",\"F\"],[[0,0,0],[0.5,0.5,0.5]])\n",
    "matcher = StructureMatcher()\n",
    "print(matcher.fit_anonymous(structure1,structure2))"
   ]
  },
  {
   "cell_type": "code",
   "execution_count": 9,
   "metadata": {},
   "outputs": [],
   "source": [
    "#input and output\n",
    "\n",
    "structure.to(filename = \"structure1\")\n",
    "structure.to(filename = \"CsCl.cif\")"
   ]
  },
  {
   "cell_type": "code",
   "execution_count": 22,
   "metadata": {},
   "outputs": [
    {
     "name": "stdout",
     "output_type": "stream",
     "text": [
      "[{'formula': {'O': 2.0, 'Si': 1.0}}]\n"
     ]
    }
   ],
   "source": [
    "m= MPRester()\n",
    "new_strucutre = m.get_structure_by_material_id(\"mp-546794\")\n",
    "SiO2_3_structure =  m.query(criteria = {\"material_id\": \"mp-18280\"},properties=[\"formula\"])\n",
    "print(SiO2_3_structure)"
   ]
  },
  {
   "cell_type": "code",
   "execution_count": 23,
   "metadata": {},
   "outputs": [],
   "source": [
    "# new_strucutre"
   ]
  },
  {
   "cell_type": "code",
   "execution_count": 24,
   "metadata": {},
   "outputs": [],
   "source": [
    "data_SiO2 = m.get_data(\"SiO2\") # one way to get data"
   ]
  },
  {
   "cell_type": "code",
   "execution_count": 33,
   "metadata": {},
   "outputs": [],
   "source": [
    "data_SiO2_2 = m.query(\"SiO2\",[\"pretty_formula\",\"energy\"])"
   ]
  },
  {
   "cell_type": "code",
   "execution_count": 34,
   "metadata": {},
   "outputs": [
    {
     "data": {
      "text/plain": [
       "[{'pretty_formula': 'SiO2', 'energy': -284.65260313},\n",
       " {'pretty_formula': 'SiO2', 'energy': -93.23168975},\n",
       " {'pretty_formula': 'SiO2', 'energy': -88.12185961},\n",
       " {'pretty_formula': 'SiO2', 'energy': -379.9356968},\n",
       " {'pretty_formula': 'SiO2', 'energy': -283.36855413},\n",
       " {'pretty_formula': 'SiO2', 'energy': -94.84476969},\n",
       " {'pretty_formula': 'SiO2', 'energy': -758.75978523},\n",
       " {'pretty_formula': 'SiO2', 'energy': -758.58458474},\n",
       " {'pretty_formula': 'SiO2', 'energy': -473.39124316},\n",
       " {'pretty_formula': 'SiO2', 'energy': -379.51596548},\n",
       " {'pretty_formula': 'SiO2', 'energy': -1105.67850599},\n",
       " {'pretty_formula': 'SiO2', 'energy': -758.78550455},\n",
       " {'pretty_formula': 'SiO2', 'energy': -379.18825286},\n",
       " {'pretty_formula': 'SiO2', 'energy': -189.87395281},\n",
       " {'pretty_formula': 'SiO2', 'energy': -189.74531928},\n",
       " {'pretty_formula': 'SiO2', 'energy': -852.31686546},\n",
       " {'pretty_formula': 'SiO2', 'energy': -758.34590101},\n",
       " {'pretty_formula': 'SiO2', 'energy': -1119.98463832},\n",
       " {'pretty_formula': 'SiO2', 'energy': -472.97401564},\n",
       " {'pretty_formula': 'SiO2', 'energy': -853.50764764},\n",
       " {'pretty_formula': 'SiO2', 'energy': -946.4549094},\n",
       " {'pretty_formula': 'SiO2', 'energy': -948.56886425},\n",
       " {'pretty_formula': 'SiO2', 'energy': -44.98754908},\n",
       " {'pretty_formula': 'SiO2', 'energy': -569.68207485},\n",
       " {'pretty_formula': 'SiO2', 'energy': -851.44132237},\n",
       " {'pretty_formula': 'SiO2', 'energy': -92.08216206},\n",
       " {'pretty_formula': 'SiO2', 'energy': -284.66522171},\n",
       " {'pretty_formula': 'SiO2', 'energy': -186.87948101},\n",
       " {'pretty_formula': 'SiO2', 'energy': -568.65106678},\n",
       " {'pretty_formula': 'SiO2', 'energy': -568.95539982},\n",
       " {'pretty_formula': 'SiO2', 'energy': -567.87347988},\n",
       " {'pretty_formula': 'SiO2', 'energy': -1013.75845571},\n",
       " {'pretty_formula': 'SiO2', 'energy': -1035.39262294},\n",
       " {'pretty_formula': 'SiO2', 'energy': -1516.70872022},\n",
       " {'pretty_formula': 'SiO2', 'energy': -1517.49430239},\n",
       " {'pretty_formula': 'SiO2', 'energy': -1137.98124437},\n",
       " {'pretty_formula': 'SiO2', 'energy': -663.50986582},\n",
       " {'pretty_formula': 'SiO2', 'energy': -1091.13346594},\n",
       " {'pretty_formula': 'SiO2', 'energy': -426.20319403},\n",
       " {'pretty_formula': 'SiO2', 'energy': -142.29357516},\n",
       " {'pretty_formula': 'SiO2', 'energy': -1517.59325365},\n",
       " {'pretty_formula': 'SiO2', 'energy': -1420.58114681},\n",
       " {'pretty_formula': 'SiO2', 'energy': -1515.81158627},\n",
       " {'pretty_formula': 'SiO2', 'energy': -758.17672092},\n",
       " {'pretty_formula': 'SiO2', 'energy': -1327.59747372},\n",
       " {'pretty_formula': 'SiO2', 'energy': -1137.26977088},\n",
       " {'pretty_formula': 'SiO2', 'energy': -1137.93586123},\n",
       " {'pretty_formula': 'SiO2', 'energy': -1516.95935268},\n",
       " {'pretty_formula': 'SiO2', 'energy': -758.32333353},\n",
       " {'pretty_formula': 'SiO2', 'energy': -284.6765143},\n",
       " {'pretty_formula': 'SiO2', 'energy': -189.2059184},\n",
       " {'pretty_formula': 'SiO2', 'energy': -236.58723635},\n",
       " {'pretty_formula': 'SiO2', 'energy': -222.32096549},\n",
       " {'pretty_formula': 'SiO2', 'energy': -160.16324223},\n",
       " {'pretty_formula': 'SiO2', 'energy': -173.15269224},\n",
       " {'pretty_formula': 'SiO2', 'energy': -379.22192213},\n",
       " {'pretty_formula': 'SiO2', 'energy': -284.48643592},\n",
       " {'pretty_formula': 'SiO2', 'energy': -363.58419359},\n",
       " {'pretty_formula': 'SiO2', 'energy': -275.04684583},\n",
       " {'pretty_formula': 'SiO2', 'energy': -189.84467815},\n",
       " {'pretty_formula': 'SiO2', 'energy': -91.34019132},\n",
       " {'pretty_formula': 'SiO2', 'energy': -253.05517121},\n",
       " {'pretty_formula': 'SiO2', 'energy': -284.52700838},\n",
       " {'pretty_formula': 'SiO2', 'energy': -71.12421228},\n",
       " {'pretty_formula': 'SiO2', 'energy': -284.64982169},\n",
       " {'pretty_formula': 'SiO2', 'energy': -379.41750196},\n",
       " {'pretty_formula': 'SiO2', 'energy': -554.79133574},\n",
       " {'pretty_formula': 'SiO2', 'energy': -569.59033007},\n",
       " {'pretty_formula': 'SiO2', 'energy': -279.76395595},\n",
       " {'pretty_formula': 'SiO2', 'energy': -189.7478536},\n",
       " {'pretty_formula': 'SiO2', 'energy': -664.23052838},\n",
       " {'pretty_formula': 'SiO2', 'energy': -91.40908354},\n",
       " {'pretty_formula': 'SiO2', 'energy': -93.87978471},\n",
       " {'pretty_formula': 'SiO2', 'energy': -50.65916566},\n",
       " {'pretty_formula': 'SiO2', 'energy': -65.1112355},\n",
       " {'pretty_formula': 'SiO2', 'energy': -71.12424299},\n",
       " {'pretty_formula': 'SiO2', 'energy': -676.38768282},\n",
       " {'pretty_formula': 'SiO2', 'energy': -1327.27803888},\n",
       " {'pretty_formula': 'SiO2', 'energy': -189.82099008},\n",
       " {'pretty_formula': 'SiO2', 'energy': -93.91244949},\n",
       " {'pretty_formula': 'SiO2', 'energy': -94.89591887},\n",
       " {'pretty_formula': 'SiO2', 'energy': -1327.17391632},\n",
       " {'pretty_formula': 'SiO2', 'energy': -379.19018742},\n",
       " {'pretty_formula': 'SiO2', 'energy': -189.63462362},\n",
       " {'pretty_formula': 'SiO2', 'energy': -118.35063694},\n",
       " {'pretty_formula': 'SiO2', 'energy': -189.72250463},\n",
       " {'pretty_formula': 'SiO2', 'energy': -94.73593995},\n",
       " {'pretty_formula': 'SiO2', 'energy': -189.85035592},\n",
       " {'pretty_formula': 'SiO2', 'energy': -327.833316},\n",
       " {'pretty_formula': 'SiO2', 'energy': -1135.38827842},\n",
       " {'pretty_formula': 'SiO2', 'energy': -521.57935728},\n",
       " {'pretty_formula': 'SiO2', 'energy': -1494.90733616},\n",
       " {'pretty_formula': 'SiO2', 'energy': -1068.70552466},\n",
       " {'pretty_formula': 'SiO2', 'energy': -284.4551722},\n",
       " {'pretty_formula': 'SiO2', 'energy': -86.60862891},\n",
       " {'pretty_formula': 'SiO2', 'energy': -378.84884934},\n",
       " {'pretty_formula': 'SiO2', 'energy': -93.18811365},\n",
       " {'pretty_formula': 'SiO2', 'energy': -1131.84187324},\n",
       " {'pretty_formula': 'SiO2', 'energy': -569.23017305},\n",
       " {'pretty_formula': 'SiO2', 'energy': -569.04129936},\n",
       " {'pretty_formula': 'SiO2', 'energy': -137.93617154},\n",
       " {'pretty_formula': 'SiO2', 'energy': -274.6774802},\n",
       " {'pretty_formula': 'SiO2', 'energy': -94.94928033},\n",
       " {'pretty_formula': 'SiO2', 'energy': -757.34849929},\n",
       " {'pretty_formula': 'SiO2', 'energy': -372.26330582},\n",
       " {'pretty_formula': 'SiO2', 'energy': -90.65424037},\n",
       " {'pretty_formula': 'SiO2', 'energy': -119.8470838},\n",
       " {'pretty_formula': 'SiO2', 'energy': -758.77840647},\n",
       " {'pretty_formula': 'SiO2', 'energy': -569.09605732},\n",
       " {'pretty_formula': 'SiO2', 'energy': -379.67243522},\n",
       " {'pretty_formula': 'SiO2', 'energy': -142.33039624},\n",
       " {'pretty_formula': 'SiO2', 'energy': -378.03853995},\n",
       " {'pretty_formula': 'SiO2', 'energy': -379.41741478},\n",
       " {'pretty_formula': 'SiO2', 'energy': -267.48005127},\n",
       " {'pretty_formula': 'SiO2', 'energy': -1120.26554804},\n",
       " {'pretty_formula': 'SiO2', 'energy': -375.20492858},\n",
       " {'pretty_formula': 'SiO2', 'energy': -142.30849456},\n",
       " {'pretty_formula': 'SiO2', 'energy': -138.2766286},\n",
       " {'pretty_formula': 'SiO2', 'energy': -379.51628575},\n",
       " {'pretty_formula': 'SiO2', 'energy': -379.16225758},\n",
       " {'pretty_formula': 'SiO2', 'energy': -262.96026618},\n",
       " {'pretty_formula': 'SiO2', 'energy': -1038.29609766},\n",
       " {'pretty_formula': 'SiO2', 'energy': -94.91028438},\n",
       " {'pretty_formula': 'SiO2', 'energy': -94.2633801},\n",
       " {'pretty_formula': 'SiO2', 'energy': -284.4867373},\n",
       " {'pretty_formula': 'SiO2', 'energy': -185.1790167},\n",
       " {'pretty_formula': 'SiO2', 'energy': -758.35873442},\n",
       " {'pretty_formula': 'SiO2', 'energy': -1138.37270155},\n",
       " {'pretty_formula': 'SiO2', 'energy': -256.38934408},\n",
       " {'pretty_formula': 'SiO2', 'energy': -569.34925728},\n",
       " {'pretty_formula': 'SiO2', 'energy': -758.16890152},\n",
       " {'pretty_formula': 'SiO2', 'energy': -276.91583115},\n",
       " {'pretty_formula': 'SiO2', 'energy': -853.59666937},\n",
       " {'pretty_formula': 'SiO2', 'energy': -370.47576285},\n",
       " {'pretty_formula': 'SiO2', 'energy': -948.82575005},\n",
       " {'pretty_formula': 'SiO2', 'energy': -283.43361895},\n",
       " {'pretty_formula': 'SiO2', 'energy': -91.93051733},\n",
       " {'pretty_formula': 'SiO2', 'energy': -751.86167207},\n",
       " {'pretty_formula': 'SiO2', 'energy': -369.9824779},\n",
       " {'pretty_formula': 'SiO2', 'energy': -853.6658064},\n",
       " {'pretty_formula': 'SiO2', 'energy': -284.49735386},\n",
       " {'pretty_formula': 'SiO2', 'energy': -94.76877866},\n",
       " {'pretty_formula': 'SiO2', 'energy': -551.89003716},\n",
       " {'pretty_formula': 'SiO2', 'energy': -282.65424238},\n",
       " {'pretty_formula': 'SiO2', 'energy': -564.63972709},\n",
       " {'pretty_formula': 'SiO2', 'energy': -219.60102671},\n",
       " {'pretty_formula': 'SiO2', 'energy': -186.11686016},\n",
       " {'pretty_formula': 'SiO2', 'energy': -94.86716856},\n",
       " {'pretty_formula': 'SiO2', 'energy': -758.93073212},\n",
       " {'pretty_formula': 'SiO2', 'energy': -137.82874408},\n",
       " {'pretty_formula': 'SiO2', 'energy': -185.71332812},\n",
       " {'pretty_formula': 'SiO2', 'energy': -379.49282595},\n",
       " {'pretty_formula': 'SiO2', 'energy': -142.00667895},\n",
       " {'pretty_formula': 'SiO2', 'energy': -278.42378312},\n",
       " {'pretty_formula': 'SiO2', 'energy': -71.14269166},\n",
       " {'pretty_formula': 'SiO2', 'energy': -171.08828361},\n",
       " {'pretty_formula': 'SiO2', 'energy': -375.52676751},\n",
       " {'pretty_formula': 'SiO2', 'energy': -93.516686},\n",
       " {'pretty_formula': 'SiO2', 'energy': -1080.37026958},\n",
       " {'pretty_formula': 'SiO2', 'energy': -568.0461763},\n",
       " {'pretty_formula': 'SiO2', 'energy': -379.52391154},\n",
       " {'pretty_formula': 'SiO2', 'energy': -758.49849888},\n",
       " {'pretty_formula': 'SiO2', 'energy': -189.19444218},\n",
       " {'pretty_formula': 'SiO2', 'energy': -375.24295188},\n",
       " {'pretty_formula': 'SiO2', 'energy': -426.32891744},\n",
       " {'pretty_formula': 'SiO2', 'energy': -806.29102275},\n",
       " {'pretty_formula': 'SiO2', 'energy': -367.60773987},\n",
       " {'pretty_formula': 'SiO2', 'energy': -758.65623304},\n",
       " {'pretty_formula': 'SiO2', 'energy': -133.04672567},\n",
       " {'pretty_formula': 'SiO2', 'energy': -560.17359119},\n",
       " {'pretty_formula': 'SiO2', 'energy': -750.18018152},\n",
       " {'pretty_formula': 'SiO2', 'energy': -354.52460226},\n",
       " {'pretty_formula': 'SiO2', 'energy': -379.54097267},\n",
       " {'pretty_formula': 'SiO2', 'energy': -276.29303593},\n",
       " {'pretty_formula': 'SiO2', 'energy': -276.06756679},\n",
       " {'pretty_formula': 'SiO2', 'energy': -411.86104247},\n",
       " {'pretty_formula': 'SiO2', 'energy': -379.3735428},\n",
       " {'pretty_formula': 'SiO2', 'energy': -185.37617107},\n",
       " {'pretty_formula': 'SiO2', 'energy': -663.59764507},\n",
       " {'pretty_formula': 'SiO2', 'energy': -569.17115058},\n",
       " {'pretty_formula': 'SiO2', 'energy': -378.90976289},\n",
       " {'pretty_formula': 'SiO2', 'energy': -189.72716089},\n",
       " {'pretty_formula': 'SiO2', 'energy': -426.60893596},\n",
       " {'pretty_formula': 'SiO2', 'energy': -758.76532158},\n",
       " {'pretty_formula': 'SiO2', 'energy': -758.79651534},\n",
       " {'pretty_formula': 'SiO2', 'energy': -185.90535162},\n",
       " {'pretty_formula': 'SiO2', 'energy': -569.34728822},\n",
       " {'pretty_formula': 'SiO2', 'energy': -425.89867279},\n",
       " {'pretty_formula': 'SiO2', 'energy': -45.14054757},\n",
       " {'pretty_formula': 'SiO2', 'energy': -94.85542395},\n",
       " {'pretty_formula': 'SiO2', 'energy': -94.91068484},\n",
       " {'pretty_formula': 'SiO2', 'energy': -89.89904957},\n",
       " {'pretty_formula': 'SiO2', 'energy': -188.99548404},\n",
       " {'pretty_formula': 'SiO2', 'energy': -1422.36598083},\n",
       " {'pretty_formula': 'SiO2', 'energy': -236.69620414},\n",
       " {'pretty_formula': 'SiO2', 'energy': -1137.89013342},\n",
       " {'pretty_formula': 'SiO2', 'energy': -283.1607184},\n",
       " {'pretty_formula': 'SiO2', 'energy': -284.54080137},\n",
       " {'pretty_formula': 'SiO2', 'energy': -948.13329311},\n",
       " {'pretty_formula': 'SiO2', 'energy': -569.69652678},\n",
       " {'pretty_formula': 'SiO2', 'energy': -92.85636762},\n",
       " {'pretty_formula': 'SiO2', 'energy': -1137.87257284},\n",
       " {'pretty_formula': 'SiO2', 'energy': -1325.27189457},\n",
       " {'pretty_formula': 'SiO2', 'energy': -568.82194},\n",
       " {'pretty_formula': 'SiO2', 'energy': -948.64187356},\n",
       " {'pretty_formula': 'SiO2', 'energy': -565.25949861},\n",
       " {'pretty_formula': 'SiO2', 'energy': -756.74521534},\n",
       " {'pretty_formula': 'SiO2', 'energy': -758.47019883},\n",
       " {'pretty_formula': 'SiO2', 'energy': -758.6089176},\n",
       " {'pretty_formula': 'SiO2', 'energy': -569.11039562},\n",
       " {'pretty_formula': 'SiO2', 'energy': -569.07846584},\n",
       " {'pretty_formula': 'SiO2', 'energy': -664.18848309},\n",
       " {'pretty_formula': 'SiO2', 'energy': -569.07965145},\n",
       " {'pretty_formula': 'SiO2', 'energy': -569.10613346},\n",
       " {'pretty_formula': 'SiO2', 'energy': -569.1197396},\n",
       " {'pretty_formula': 'SiO2', 'energy': -284.49008647},\n",
       " {'pretty_formula': 'SiO2', 'energy': -758.75970513},\n",
       " {'pretty_formula': 'SiO2', 'energy': -1102.08306232},\n",
       " {'pretty_formula': 'SiO2', 'energy': -664.11370135},\n",
       " {'pretty_formula': 'SiO2', 'energy': -758.67935906},\n",
       " {'pretty_formula': 'SiO2', 'energy': -1138.15143501},\n",
       " {'pretty_formula': 'SiO2', 'energy': -1138.31702338},\n",
       " {'pretty_formula': 'SiO2', 'energy': -1138.03081447},\n",
       " {'pretty_formula': 'SiO2', 'energy': -758.10879305},\n",
       " {'pretty_formula': 'SiO2', 'energy': -93.98890801},\n",
       " {'pretty_formula': 'SiO2', 'energy': -94.9324639},\n",
       " {'pretty_formula': 'SiO2', 'energy': -189.65986134},\n",
       " {'pretty_formula': 'SiO2', 'energy': -664.08253448},\n",
       " {'pretty_formula': 'SiO2', 'energy': -426.84367001},\n",
       " {'pretty_formula': 'SiO2', 'energy': -805.83878908},\n",
       " {'pretty_formula': 'SiO2', 'energy': -284.53310752},\n",
       " {'pretty_formula': 'SiO2', 'energy': -276.25584607},\n",
       " {'pretty_formula': 'SiO2', 'energy': -44.86748632},\n",
       " {'pretty_formula': 'SiO2', 'energy': -94.13499409},\n",
       " {'pretty_formula': 'SiO2', 'energy': -94.94428965},\n",
       " {'pretty_formula': 'SiO2', 'energy': -94.44820294},\n",
       " {'pretty_formula': 'SiO2', 'energy': -93.95168607},\n",
       " {'pretty_formula': 'SiO2', 'energy': -71.14391622},\n",
       " {'pretty_formula': 'SiO2', 'energy': -94.92245517},\n",
       " {'pretty_formula': 'SiO2', 'energy': -403.14478525},\n",
       " {'pretty_formula': 'SiO2', 'energy': -186.7450978},\n",
       " {'pretty_formula': 'SiO2', 'energy': -142.28933829},\n",
       " {'pretty_formula': 'SiO2', 'energy': -853.59834002},\n",
       " {'pretty_formula': 'SiO2', 'energy': -186.45363707},\n",
       " {'pretty_formula': 'SiO2', 'energy': -94.95308244},\n",
       " {'pretty_formula': 'SiO2', 'energy': -188.20488543},\n",
       " {'pretty_formula': 'SiO2', 'energy': -94.89185817},\n",
       " {'pretty_formula': 'SiO2', 'energy': -46.31487161},\n",
       " {'pretty_formula': 'SiO2', 'energy': -94.96752452},\n",
       " {'pretty_formula': 'SiO2', 'energy': -109.55825125},\n",
       " {'pretty_formula': 'SiO2', 'energy': -354.9020977},\n",
       " {'pretty_formula': 'SiO2', 'energy': -379.21964982},\n",
       " {'pretty_formula': 'SiO2', 'energy': -232.62680833},\n",
       " {'pretty_formula': 'SiO2', 'energy': -183.98807023},\n",
       " {'pretty_formula': 'SiO2', 'energy': -189.5065054},\n",
       " {'pretty_formula': 'SiO2', 'energy': -1134.0934197},\n",
       " {'pretty_formula': 'SiO2', 'energy': -1328.34532437},\n",
       " {'pretty_formula': 'SiO2', 'energy': -1516.87241061},\n",
       " {'pretty_formula': 'SiO2', 'energy': -567.41758687},\n",
       " {'pretty_formula': 'SiO2', 'energy': -174.17705115},\n",
       " {'pretty_formula': 'SiO2', 'energy': -1328.2894374},\n",
       " {'pretty_formula': 'SiO2', 'energy': -568.79737977},\n",
       " {'pretty_formula': 'SiO2', 'energy': -1280.54365647},\n",
       " {'pretty_formula': 'SiO2', 'energy': -331.92225883},\n",
       " {'pretty_formula': 'SiO2', 'energy': -1138.29447194},\n",
       " {'pretty_formula': 'SiO2', 'energy': -1328.18722433},\n",
       " {'pretty_formula': 'SiO2', 'energy': -1137.78918383},\n",
       " {'pretty_formula': 'SiO2', 'energy': -256.64943453},\n",
       " {'pretty_formula': 'SiO2', 'energy': -565.15535455},\n",
       " {'pretty_formula': 'SiO2', 'energy': -1280.56832127},\n",
       " {'pretty_formula': 'SiO2', 'energy': -176.72240909},\n",
       " {'pretty_formula': 'SiO2', 'energy': -1138.55552678},\n",
       " {'pretty_formula': 'SiO2', 'energy': -1328.11571407},\n",
       " {'pretty_formula': 'SiO2', 'energy': -1138.14164566},\n",
       " {'pretty_formula': 'SiO2', 'energy': -1137.59954053},\n",
       " {'pretty_formula': 'SiO2', 'energy': -284.52526136},\n",
       " {'pretty_formula': 'SiO2', 'energy': -1136.74219833},\n",
       " {'pretty_formula': 'SiO2', 'energy': -472.90438994},\n",
       " {'pretty_formula': 'SiO2', 'energy': -70.96646538},\n",
       " {'pretty_formula': 'SiO2', 'energy': -94.94921285},\n",
       " {'pretty_formula': 'SiO2', 'energy': -19.93187897},\n",
       " {'pretty_formula': 'SiO2', 'energy': -47.41881337},\n",
       " {'pretty_formula': 'SiO2', 'energy': -379.19520429},\n",
       " {'pretty_formula': 'SiO2', 'energy': -1694.41681588},\n",
       " {'pretty_formula': 'SiO2', 'energy': -2276.92466243},\n",
       " {'pretty_formula': 'SiO2', 'energy': -1136.1920054},\n",
       " {'pretty_formula': 'SiO2', 'energy': -278.93224254},\n",
       " {'pretty_formula': 'SiO2', 'energy': -611.28523003},\n",
       " {'pretty_formula': 'SiO2', 'energy': -2276.77395029},\n",
       " {'pretty_formula': 'SiO2', 'energy': -755.46086786},\n",
       " {'pretty_formula': 'SiO2', 'energy': -1095.79917919},\n",
       " {'pretty_formula': 'SiO2', 'energy': -1706.2548265},\n",
       " {'pretty_formula': 'SiO2', 'energy': -411.81754398},\n",
       " {'pretty_formula': 'SiO2', 'energy': -189.72018645},\n",
       " {'pretty_formula': 'SiO2', 'energy': -142.33744198},\n",
       " {'pretty_formula': 'SiO2', 'energy': -375.07879387}]"
      ]
     },
     "execution_count": 34,
     "metadata": {},
     "output_type": "execute_result"
    }
   ],
   "source": [
    "data_SiO2_2"
   ]
  },
  {
   "cell_type": "code",
   "execution_count": 48,
   "metadata": {},
   "outputs": [],
   "source": [
    "new_strucutre.to(filename = \"SiO2_1.cif\")"
   ]
  },
  {
   "cell_type": "code",
   "execution_count": 22,
   "metadata": {},
   "outputs": [
    {
     "ename": "IndexError",
     "evalue": "list index out of range",
     "output_type": "error",
     "traceback": [
      "\u001b[0;31m---------------------------------------------------------------------------\u001b[0m",
      "\u001b[0;31mIndexError\u001b[0m                                Traceback (most recent call last)",
      "\u001b[0;32m<ipython-input-22-67a77dbd9a56>\u001b[0m in \u001b[0;36m<module>\u001b[0;34m\u001b[0m\n\u001b[1;32m      1\u001b[0m \u001b[0mSiO2_3_structure\u001b[0m \u001b[0;34m=\u001b[0m  \u001b[0mm\u001b[0m\u001b[0;34m.\u001b[0m\u001b[0mquery\u001b[0m\u001b[0;34m(\u001b[0m\u001b[0mcriteria\u001b[0m \u001b[0;34m=\u001b[0m \u001b[0;34m{\u001b[0m\u001b[0;34m\"material_id\"\u001b[0m\u001b[0;34m:\u001b[0m \u001b[0;34m\"mp18280\"\u001b[0m\u001b[0;34m}\u001b[0m\u001b[0;34m,\u001b[0m\u001b[0mproperties\u001b[0m\u001b[0;34m=\u001b[0m\u001b[0;34m[\u001b[0m\u001b[0;34m\"formula\"\u001b[0m\u001b[0;34m]\u001b[0m\u001b[0;34m)\u001b[0m\u001b[0;34m\u001b[0m\u001b[0;34m\u001b[0m\u001b[0m\n\u001b[0;32m----> 2\u001b[0;31m \u001b[0mprint\u001b[0m\u001b[0;34m(\u001b[0m\u001b[0mSiO2_3_structure\u001b[0m\u001b[0;34m[\u001b[0m\u001b[0;36m0\u001b[0m\u001b[0;34m]\u001b[0m\u001b[0;34m)\u001b[0m\u001b[0;34m\u001b[0m\u001b[0;34m\u001b[0m\u001b[0m\n\u001b[0m",
      "\u001b[0;31mIndexError\u001b[0m: list index out of range"
     ]
    }
   ],
   "source": [
    "SiO2_3_structure =  m.query(criteria = {\"material_id\": \"mp18280\"},properties=[\"formula\"])\n",
    "print(SiO2_3_structure)"
   ]
  },
  {
   "cell_type": "code",
   "execution_count": 13,
   "metadata": {},
   "outputs": [
    {
     "data": {
      "text/plain": [
       "122"
      ]
     },
     "execution_count": 13,
     "metadata": {},
     "output_type": "execute_result"
    }
   ],
   "source": [
    "psa.SpacegroupAnalyzer(new_strucutre).get_space_group_number()\n"
   ]
  },
  {
   "cell_type": "code",
   "execution_count": null,
   "metadata": {},
   "outputs": [],
   "source": []
  },
  {
   "cell_type": "code",
   "execution_count": null,
   "metadata": {},
   "outputs": [],
   "source": []
  }
 ],
 "metadata": {
  "kernelspec": {
   "display_name": "Python 3",
   "language": "python",
   "name": "python3"
  },
  "language_info": {
   "codemirror_mode": {
    "name": "ipython",
    "version": 3
   },
   "file_extension": ".py",
   "mimetype": "text/x-python",
   "name": "python",
   "nbconvert_exporter": "python",
   "pygments_lexer": "ipython3",
   "version": "3.7.3"
  }
 },
 "nbformat": 4,
 "nbformat_minor": 2
}
