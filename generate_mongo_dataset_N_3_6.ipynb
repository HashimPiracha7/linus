{
 "cells": [
  {
   "cell_type": "code",
   "execution_count": 1,
   "metadata": {},
   "outputs": [],
   "source": [
    "%load_ext autoreload\n",
    "%autoreload 2"
   ]
  },
  {
   "cell_type": "code",
   "execution_count": 2,
   "metadata": {},
   "outputs": [],
   "source": [
    "from pymongo import MongoClient\n",
    "db = MongoClient().linus.lattices"
   ]
  },
  {
   "cell_type": "code",
   "execution_count": 3,
   "metadata": {},
   "outputs": [],
   "source": [
    "import calcLattice\n",
    "from calcLattice import make_lattice, reset\n",
    "import draw\n",
    "from draw import addTripod, make_figure\n",
    "%matplotlib inline\n",
    "import matplotlib as mpl\n",
    "import numpy as np\n",
    "import math\n",
    "import matplotlib.pyplot as plt\n",
    "import matplotlib.patches as patches\n",
    "from matplotlib.collections import PatchCollection\n",
    "from calcLattice import tiles, positions_list, orientations_list, types_list\n",
    "from calcLattice import gluing_mapping"
   ]
  },
  {
   "cell_type": "markdown",
   "metadata": {},
   "source": [
    "### The key to using global variables for lists and dictionaries is to remember that they are Objects, so rather than reassigning them, we simply need to clear them and update."
   ]
  },
  {
   "cell_type": "code",
   "execution_count": 4,
   "metadata": {},
   "outputs": [],
   "source": [
    "global tiles, positions_list, orientations_list, types_list, gluing_mapping"
   ]
  },
  {
   "cell_type": "code",
   "execution_count": 5,
   "metadata": {},
   "outputs": [],
   "source": [
    "import itertools\n",
    "import copy "
   ]
  },
  {
   "cell_type": "code",
   "execution_count": 11,
   "metadata": {},
   "outputs": [],
   "source": [
    "def gluing_mapping_to_list_of_tuples(mapping):\n",
    "    list_of_tuples = []\n",
    "    for key, value in mapping.items():\n",
    "        list_of_tuples.append((key, value))\n",
    "    return list_of_tuples"
   ]
  },
  {
   "cell_type": "code",
   "execution_count": 19,
   "metadata": {},
   "outputs": [],
   "source": [
    "N=3\n",
    "for k, mapping in enumerate(itertools.product(range(N+1), repeat=N)):\n",
    "#     print(mapping)\n",
    "    gluing_mapping.clear()\n",
    "    gluing_mapping.update({i + 1: j for i,j in enumerate(mapping)})\n",
    "    reset()\n",
    "    make_lattice()\n",
    "    map_list = gluing_mapping_to_list_of_tuples(gluing_mapping)\n",
    "    tmp_dict = {'gluing_mapping': map_list,\n",
    "                'coords': positions_list,\n",
    "                'types': types_list,\n",
    "                'orientations': orientations_list}\n",
    "    if not db.find_one({'gluing_mapping': map_list}):\n",
    "        db.insert_one(tmp_dict)"
   ]
  },
  {
   "cell_type": "code",
   "execution_count": 20,
   "metadata": {},
   "outputs": [],
   "source": [
    "N=6\n",
    "for k, mapping in enumerate(itertools.product(range(N+1), repeat=N)):\n",
    "#     print(mapping)\n",
    "    gluing_mapping.clear()\n",
    "    gluing_mapping.update({i + 1: j for i,j in enumerate(mapping)})\n",
    "    reset()\n",
    "    make_lattice()\n",
    "    map_list = gluing_mapping_to_list_of_tuples(gluing_mapping)\n",
    "    tmp_dict = {'gluing_mapping': map_list,\n",
    "                'coords': positions_list,\n",
    "                'types': types_list,\n",
    "                'orientations': orientations_list}\n",
    "    if not db.find_one({'gluing_mapping': map_list}):\n",
    "        db.insert_one(tmp_dict)"
   ]
  },
  {
   "cell_type": "code",
   "execution_count": null,
   "metadata": {},
   "outputs": [],
   "source": [
    "# N=9\n",
    "# for k, mapping in enumerate(itertools.product(range(N+1), repeat=N)):\n",
    "#     gluing_mapping.clear()\n",
    "#     gluing_mapping.update({i + 1: j for i,j in enumerate(mapping)})\n",
    "#     reset()\n",
    "#     make_lattice()\n",
    "#     map_list = gluing_mapping_to_list_of_tuples(gluing_mapping)\n",
    "#     tmp_dict = {'gluing_mapping': map_list,\n",
    "#                 'coords': positions_list,\n",
    "#                 'types': types_list,\n",
    "#                 'orientations': orientations_list}\n",
    "#     if not db.find_one({'gluing_mapping': map_list}):\n",
    "#         db.insert_one(tmp_dict)"
   ]
  }
 ],
 "metadata": {
  "kernelspec": {
   "display_name": "Python 3",
   "language": "python",
   "name": "python3"
  },
  "language_info": {
   "codemirror_mode": {
    "name": "ipython",
    "version": 3
   },
   "file_extension": ".py",
   "mimetype": "text/x-python",
   "name": "python",
   "nbconvert_exporter": "python",
   "pygments_lexer": "ipython3",
   "version": "3.6.7"
  }
 },
 "nbformat": 4,
 "nbformat_minor": 2
}
